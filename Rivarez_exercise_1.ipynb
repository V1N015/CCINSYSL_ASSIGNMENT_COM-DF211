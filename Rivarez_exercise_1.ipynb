{
  "cells": [
    {
      "cell_type": "markdown",
      "metadata": {
        "id": "view-in-github",
        "colab_type": "text"
      },
      "source": [
        "<a href=\"https://colab.research.google.com/github/V1N015/CCINSYSL_ASSIGNMENT_COM-DF211/blob/main/Rivarez_exercise_1.ipynb\" target=\"_parent\"><img src=\"https://colab.research.google.com/assets/colab-badge.svg\" alt=\"Open In Colab\"/></a>"
      ]
    },
    {
      "cell_type": "markdown",
      "metadata": {
        "id": "GBxi4CrfzeYk"
      },
      "source": [
        "# Exercise 1\n",
        "\n",
        "Learning through data"
      ]
    },
    {
      "cell_type": "markdown",
      "metadata": {
        "id": "TGoRtGThzeYm"
      },
      "source": [
        "1. Find the function **f(x)**  \n",
        "\n",
        "| Input  | CAT | DOG | APPLE | BANANA | ORANGE |  \n",
        "| --- | --- | --- | --- | --- | --- |\n",
        "| Output | cat | dog | apple | banana | orange\n"
      ]
    },
    {
      "cell_type": "code",
      "execution_count": null,
      "metadata": {
        "id": "qVeYW_ypzeYn",
        "colab": {
          "base_uri": "https://localhost:8080/"
        },
        "outputId": "82ceac82-0718-41a1-d18b-d5add35c634f"
      },
      "outputs": [
        {
          "output_type": "stream",
          "name": "stdout",
          "text": [
            "cat\n"
          ]
        }
      ],
      "source": [
        "# Answer here\n",
        "def lower_func(Inp):\n",
        "  print(Inp.lower())\n",
        "lower_func(\"CAT\")"
      ]
    },
    {
      "cell_type": "markdown",
      "metadata": {
        "id": "ljHhD6M1zeYn"
      },
      "source": [
        "2. Find the function **f(x)**  \n",
        "\n",
        "| Input  | CAT | DOG | APPLE | BANANA | ORANGE |  \n",
        "| --- | --- | --- | --- | --- | --- |\n",
        "| Output | CT | DG | PPL | BNN | RNG\n"
      ]
    },
    {
      "cell_type": "code",
      "execution_count": null,
      "metadata": {
        "id": "O1IYoTnrzeYo",
        "outputId": "cd644b59-42b8-42bd-b11e-7625c972a30d",
        "colab": {
          "base_uri": "https://localhost:8080/"
        }
      },
      "outputs": [
        {
          "output_type": "stream",
          "name": "stdout",
          "text": [
            "DG\n"
          ]
        }
      ],
      "source": [
        "# Answer here\n",
        "def Convert_func(Inp):\n",
        "  vowels = ['a', 'e', 'i', 'o', 'u', 'A', 'E', 'I', 'O', 'U']\n",
        "  result = \"\"\n",
        "  for char in Inp:\n",
        "    if char not in vowels:\n",
        "        result = result + char\n",
        "  print(result)\n",
        "\n",
        "Convert_func(\"DOG\")"
      ]
    },
    {
      "cell_type": "markdown",
      "metadata": {
        "id": "jRfDgREezeYo"
      },
      "source": [
        "3. Find the function **f(x)**  \n",
        "\n",
        "| Input  | CAT | DOG | APPLE | BANANA | ORANGE |  \n",
        "| --- | --- | --- | --- | --- | --- |\n",
        "| Output | TAC | GOD | ELPPA | ANANAB | EGNARO\n"
      ]
    },
    {
      "cell_type": "code",
      "execution_count": null,
      "metadata": {
        "id": "xplN1Wi9zeYp",
        "outputId": "32f83296-dcb6-4225-81ac-357c1558cd51",
        "colab": {
          "base_uri": "https://localhost:8080/",
          "height": 36
        }
      },
      "outputs": [
        {
          "output_type": "execute_result",
          "data": {
            "text/plain": [
              "'ELPPA'"
            ],
            "application/vnd.google.colaboratory.intrinsic+json": {
              "type": "string"
            }
          },
          "metadata": {},
          "execution_count": 10
        }
      ],
      "source": [
        "# Answer here\n",
        "\n",
        "def Reverse_funct(Inp):\n",
        "  Inp = Inp[::-1]\n",
        "  return Inp\n",
        "\n",
        "Reverse_funct(\"APPLE\")"
      ]
    },
    {
      "cell_type": "markdown",
      "metadata": {
        "id": "k4JMcMspzeYp"
      },
      "source": [
        "4. Find the function **f(x)**  \n",
        "\n",
        "| Input  | 2 | 3 | 4 | 5 | 6 |  \n",
        "| --- | --- | --- | --- | --- | --- |\n",
        "| Output | 4 | 9 | 16 | 25 | 36\n"
      ]
    },
    {
      "cell_type": "code",
      "execution_count": null,
      "metadata": {
        "id": "dZrQ2PYVzeYp",
        "outputId": "819c1fb5-fb2e-446d-cd7d-ce8fb225b54b",
        "colab": {
          "base_uri": "https://localhost:8080/"
        }
      },
      "outputs": [
        {
          "output_type": "stream",
          "name": "stdout",
          "text": [
            "36\n"
          ]
        }
      ],
      "source": [
        "# Answer here\n",
        "def multiply_func(Num):\n",
        "  fin = Num * Num\n",
        "  print(fin)\n",
        "\n",
        "multiply_func(6)"
      ]
    },
    {
      "cell_type": "markdown",
      "metadata": {
        "id": "6DonFwqSzeYq"
      },
      "source": [
        "5. Find the function **f(x)**  \n",
        "\n",
        "| Input  | 64 | 27 | 1000 | 729 | 512 |  \n",
        "| --- | --- | --- | --- | --- | --- |\n",
        "| Output | 4 | 3 | 10 | 9 | 8"
      ]
    },
    {
      "cell_type": "code",
      "execution_count": null,
      "metadata": {
        "id": "EgBiiHMozeYq",
        "outputId": "0bdbfb8c-6b94-46d4-b8bf-43fce11d8335",
        "colab": {
          "base_uri": "https://localhost:8080/"
        }
      },
      "outputs": [
        {
          "output_type": "stream",
          "name": "stdout",
          "text": [
            "8\n"
          ]
        }
      ],
      "source": [
        "# Answer here\n",
        "def num_function(Num):\n",
        "  if Num < 0:\n",
        "        Num = abs(Num)\n",
        "        num_function = Num**(1/3)*(-1)\n",
        "  else:\n",
        "          num_function = Num**(1/3)\n",
        "          return num_function\n",
        "print(round(num_function(512)))"
      ]
    }
  ],
  "metadata": {
    "kernelspec": {
      "display_name": "myenvironment",
      "language": "python",
      "name": "python3"
    },
    "language_info": {
      "codemirror_mode": {
        "name": "ipython",
        "version": 3
      },
      "file_extension": ".py",
      "mimetype": "text/x-python",
      "name": "python",
      "nbconvert_exporter": "python",
      "pygments_lexer": "ipython3",
      "version": "3.9.17"
    },
    "orig_nbformat": 4,
    "colab": {
      "provenance": [],
      "include_colab_link": true
    }
  },
  "nbformat": 4,
  "nbformat_minor": 0
}